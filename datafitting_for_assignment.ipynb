{
 "cells": [
  {
   "cell_type": "markdown",
   "id": "be3d204b",
   "metadata": {},
   "source": [
    "## Energy vs Lattice Parameter - Data Fitting \n",
    "\n",
    "You can use this notebook to fit a quadratic curve to the data you got from \n",
    "DFT calculations performed on \"Quantum Espresso\" \n",
    "\n",
    "First in the box below import necessary libraries\n",
    "\n",
    "**numpy** for math, linear algebra etc.\n",
    "\n",
    "**polyfit** and **polyval** for fitting \n",
    "\n",
    "**matplotlib.pyplot** for plotting "
   ]
  },
  {
   "cell_type": "code",
   "execution_count": 1,
   "id": "093d5edf",
   "metadata": {},
   "outputs": [],
   "source": [
    "# import x as y -> I want to import library/package/module x \n",
    "# but I want to refer to it as y in the rest of the notebook because x is too long to type\n",
    "\n",
    "# from x import y -> I want to import the specific function/class y from package x\n",
    "\n",
    "### write your code below ###\n",
    "\n",
    "\n",
    "\n",
    "\n",
    "\n",
    "\n",
    "\n",
    "## write your code above ###"
   ]
  },
  {
   "cell_type": "markdown",
   "id": "c63903e3",
   "metadata": {},
   "source": [
    "Now we need the data. In the example notebook the data was provided with .txt files. \n",
    "Using .txt files to store and move data around is convenient especially with python but for the assignment we don't have that many data so we can just type them down in the notebook.\n",
    "\n",
    "Here we will create two data arrays with numpy. An array for the x coordinates of our data (lattice parameter), another array for y coordinates (energy).\n",
    "At the end you can print the arrays and their size to double check. The sizes should match obviously. "
   ]
  },
  {
   "cell_type": "code",
   "execution_count": 2,
   "id": "14a5d023",
   "metadata": {},
   "outputs": [],
   "source": [
    "## example numpy array \n",
    "# arr1 = np.array([1.0,2.0,3.0])\n",
    "# print('arr1 : ',arr1)\n",
    "# print('arr1 size : ', np.shape(arr1))\n",
    "### write your code below ###\n",
    "\n",
    "\n",
    "\n",
    "### write your code above ###"
   ]
  },
  {
   "cell_type": "markdown",
   "id": "fd6f436d",
   "metadata": {},
   "source": [
    "Use **polyfit** function to obtain the coefficents a,b,c of the fitted polynomial \n",
    "ax<sup>2</sup> + bx + c , just like example script \n",
    "\n",
    "Use **polyval** to get y values of the fit"
   ]
  },
  {
   "cell_type": "code",
   "execution_count": 3,
   "id": "f683f5bb",
   "metadata": {},
   "outputs": [],
   "source": [
    "### write your code below ###\n",
    "\n",
    "\n",
    "\n",
    "### write your code above ###"
   ]
  },
  {
   "cell_type": "markdown",
   "id": "b7b81647",
   "metadata": {},
   "source": [
    "Make a plot with both data and fitted polynomial, make sure to add labels to axis and a legend "
   ]
  },
  {
   "cell_type": "code",
   "execution_count": 4,
   "id": "e8e3e027",
   "metadata": {},
   "outputs": [],
   "source": [
    "### write your code below ###\n",
    "\n",
    "\n",
    "\n",
    "\n",
    "\n",
    "\n",
    "\n",
    "\n",
    "\n",
    "\n",
    "### write your code above ###"
   ]
  },
  {
   "cell_type": "markdown",
   "id": "8f3a1792",
   "metadata": {},
   "source": [
    "Your fit plot may not look smooth because we don't have enough x points, we need more than ~10 points to make a smooth curve. \n",
    "In the example script we had lots of data so the function plot was looking good. \n",
    "When plotting the fitted function we don't have to use the x coordinates of data points, \n",
    "we can use any number of x coordinates we want, to make it look nicer since we already have the coefficients for the polynomial (these coefficients are also helpful to find a minimum energy). \n",
    "Below you will create a new array for x coordinates using **linspace** function of numpy. \n",
    "Then use those new x values to obtain y coordinates for your fit with **polyval** again.\n",
    "\n",
    "Try googling 'numpy linspace' if you don't know how to use it. "
   ]
  },
  {
   "cell_type": "code",
   "execution_count": 5,
   "id": "161daa02",
   "metadata": {},
   "outputs": [],
   "source": [
    "### write your code below ###\n",
    "\n",
    "\n",
    "\n",
    "### write your code above ###"
   ]
  },
  {
   "cell_type": "markdown",
   "id": "ca61e45f",
   "metadata": {},
   "source": [
    "Plot again the data points and the fit with the smooth function. Use this plot for the assignment. "
   ]
  },
  {
   "cell_type": "code",
   "execution_count": 6,
   "id": "0d37163e",
   "metadata": {},
   "outputs": [],
   "source": [
    "### write your code below ###\n",
    "\n",
    "\n",
    "\n",
    "\n",
    "\n",
    "\n",
    "\n",
    "\n",
    "### write your code above ###"
   ]
  },
  {
   "cell_type": "code",
   "execution_count": null,
   "id": "3e429622",
   "metadata": {},
   "outputs": [],
   "source": [
    " "
   ]
  }
 ],
 "metadata": {
  "kernelspec": {
   "display_name": "Python 3 (ipykernel)",
   "language": "python",
   "name": "python3"
  },
  "language_info": {
   "codemirror_mode": {
    "name": "ipython",
    "version": 3
   },
   "file_extension": ".py",
   "mimetype": "text/x-python",
   "name": "python",
   "nbconvert_exporter": "python",
   "pygments_lexer": "ipython3",
   "version": "3.8.10"
  }
 },
 "nbformat": 4,
 "nbformat_minor": 5
}
